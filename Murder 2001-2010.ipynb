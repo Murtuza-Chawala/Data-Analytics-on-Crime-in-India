{
 "cells": [
  {
   "cell_type": "code",
   "execution_count": 1,
   "metadata": {},
   "outputs": [],
   "source": [
    "import numpy as np\n",
    "import pandas as pd"
   ]
  },
  {
   "cell_type": "code",
   "execution_count": 2,
   "metadata": {},
   "outputs": [],
   "source": [
    "df = pd.read_csv('C:/Users/Murtuz/Desktop/Datasets/crime-in-india/32_Murder_victim_age_sex.csv')"
   ]
  },
  {
   "cell_type": "code",
   "execution_count": 3,
   "metadata": {},
   "outputs": [
    {
     "data": {
      "text/html": [
       "<div>\n",
       "<style scoped>\n",
       "    .dataframe tbody tr th:only-of-type {\n",
       "        vertical-align: middle;\n",
       "    }\n",
       "\n",
       "    .dataframe tbody tr th {\n",
       "        vertical-align: top;\n",
       "    }\n",
       "\n",
       "    .dataframe thead th {\n",
       "        text-align: right;\n",
       "    }\n",
       "</style>\n",
       "<table border=\"1\" class=\"dataframe\">\n",
       "  <thead>\n",
       "    <tr style=\"text-align: right;\">\n",
       "      <th></th>\n",
       "      <th>Area_Name</th>\n",
       "      <th>Year</th>\n",
       "      <th>Group_Name</th>\n",
       "      <th>Sub_Group_Name</th>\n",
       "      <th>Victims_Above_50_Yrs</th>\n",
       "      <th>Victims_Total</th>\n",
       "      <th>Victims_Upto_10_15_Yrs</th>\n",
       "      <th>Victims_Upto_10_Yrs</th>\n",
       "      <th>Victims_Upto_15_18_Yrs</th>\n",
       "      <th>Victims_Upto_18_30_Yrs</th>\n",
       "      <th>Victims_Upto_30_50_Yrs</th>\n",
       "    </tr>\n",
       "  </thead>\n",
       "  <tbody>\n",
       "    <tr>\n",
       "      <th>0</th>\n",
       "      <td>Andaman &amp; Nicobar Islands</td>\n",
       "      <td>2001</td>\n",
       "      <td>Murder - Female Victims</td>\n",
       "      <td>2. Female Victims</td>\n",
       "      <td>NaN</td>\n",
       "      <td>6</td>\n",
       "      <td>NaN</td>\n",
       "      <td>NaN</td>\n",
       "      <td>NaN</td>\n",
       "      <td>4.0</td>\n",
       "      <td>2.0</td>\n",
       "    </tr>\n",
       "    <tr>\n",
       "      <th>1</th>\n",
       "      <td>Andhra Pradesh</td>\n",
       "      <td>2001</td>\n",
       "      <td>Murder - Female Victims</td>\n",
       "      <td>2. Female Victims</td>\n",
       "      <td>67.0</td>\n",
       "      <td>607</td>\n",
       "      <td>15.0</td>\n",
       "      <td>38.0</td>\n",
       "      <td>43.0</td>\n",
       "      <td>269.0</td>\n",
       "      <td>175.0</td>\n",
       "    </tr>\n",
       "    <tr>\n",
       "      <th>2</th>\n",
       "      <td>Arunachal Pradesh</td>\n",
       "      <td>2001</td>\n",
       "      <td>Murder - Female Victims</td>\n",
       "      <td>2. Female Victims</td>\n",
       "      <td>2.0</td>\n",
       "      <td>16</td>\n",
       "      <td>0.0</td>\n",
       "      <td>0.0</td>\n",
       "      <td>0.0</td>\n",
       "      <td>10.0</td>\n",
       "      <td>4.0</td>\n",
       "    </tr>\n",
       "    <tr>\n",
       "      <th>3</th>\n",
       "      <td>Assam</td>\n",
       "      <td>2001</td>\n",
       "      <td>Murder - Female Victims</td>\n",
       "      <td>2. Female Victims</td>\n",
       "      <td>11.0</td>\n",
       "      <td>128</td>\n",
       "      <td>8.0</td>\n",
       "      <td>4.0</td>\n",
       "      <td>23.0</td>\n",
       "      <td>45.0</td>\n",
       "      <td>37.0</td>\n",
       "    </tr>\n",
       "    <tr>\n",
       "      <th>4</th>\n",
       "      <td>Bihar</td>\n",
       "      <td>2001</td>\n",
       "      <td>Murder - Female Victims</td>\n",
       "      <td>2. Female Victims</td>\n",
       "      <td>12.0</td>\n",
       "      <td>366</td>\n",
       "      <td>0.0</td>\n",
       "      <td>0.0</td>\n",
       "      <td>40.0</td>\n",
       "      <td>191.0</td>\n",
       "      <td>123.0</td>\n",
       "    </tr>\n",
       "  </tbody>\n",
       "</table>\n",
       "</div>"
      ],
      "text/plain": [
       "                   Area_Name  Year               Group_Name  \\\n",
       "0  Andaman & Nicobar Islands  2001  Murder - Female Victims   \n",
       "1             Andhra Pradesh  2001  Murder - Female Victims   \n",
       "2          Arunachal Pradesh  2001  Murder - Female Victims   \n",
       "3                      Assam  2001  Murder - Female Victims   \n",
       "4                      Bihar  2001  Murder - Female Victims   \n",
       "\n",
       "      Sub_Group_Name  Victims_Above_50_Yrs  Victims_Total  \\\n",
       "0  2. Female Victims                   NaN              6   \n",
       "1  2. Female Victims                  67.0            607   \n",
       "2  2. Female Victims                   2.0             16   \n",
       "3  2. Female Victims                  11.0            128   \n",
       "4  2. Female Victims                  12.0            366   \n",
       "\n",
       "   Victims_Upto_10_15_Yrs  Victims_Upto_10_Yrs  Victims_Upto_15_18_Yrs  \\\n",
       "0                     NaN                  NaN                     NaN   \n",
       "1                    15.0                 38.0                    43.0   \n",
       "2                     0.0                  0.0                     0.0   \n",
       "3                     8.0                  4.0                    23.0   \n",
       "4                     0.0                  0.0                    40.0   \n",
       "\n",
       "   Victims_Upto_18_30_Yrs  Victims_Upto_30_50_Yrs  \n",
       "0                     4.0                     2.0  \n",
       "1                   269.0                   175.0  \n",
       "2                    10.0                     4.0  \n",
       "3                    45.0                    37.0  \n",
       "4                   191.0                   123.0  "
      ]
     },
     "execution_count": 3,
     "metadata": {},
     "output_type": "execute_result"
    }
   ],
   "source": [
    "df.head()"
   ]
  },
  {
   "cell_type": "code",
   "execution_count": 4,
   "metadata": {},
   "outputs": [
    {
     "data": {
      "text/plain": [
       "array([2001, 2002, 2003, 2004, 2005, 2006, 2007, 2008, 2009, 2010],\n",
       "      dtype=int64)"
      ]
     },
     "execution_count": 4,
     "metadata": {},
     "output_type": "execute_result"
    }
   ],
   "source": [
    "df['Year'].unique()"
   ]
  },
  {
   "cell_type": "code",
   "execution_count": 5,
   "metadata": {},
   "outputs": [
    {
     "data": {
      "text/plain": [
       "array(['Murder - Female Victims', 'Murder - Male Victims',\n",
       "       'Murder - Total Victims'], dtype=object)"
      ]
     },
     "execution_count": 5,
     "metadata": {},
     "output_type": "execute_result"
    }
   ],
   "source": [
    "df['Group_Name'].unique()"
   ]
  },
  {
   "cell_type": "code",
   "execution_count": 6,
   "metadata": {},
   "outputs": [
    {
     "data": {
      "text/plain": [
       "array(['2. Female Victims', '1. Male Victims', '3. Total'], dtype=object)"
      ]
     },
     "execution_count": 6,
     "metadata": {},
     "output_type": "execute_result"
    }
   ],
   "source": [
    "df['Sub_Group_Name'].unique()"
   ]
  },
  {
   "cell_type": "code",
   "execution_count": 7,
   "metadata": {},
   "outputs": [
    {
     "data": {
      "text/plain": [
       "array(['Andaman & Nicobar Islands', 'Andhra Pradesh', 'Arunachal Pradesh',\n",
       "       'Assam', 'Bihar', 'Chandigarh', 'Chhattisgarh', 'Delhi', 'Goa',\n",
       "       'Gujarat', 'Haryana', 'Himachal Pradesh', 'Jammu & Kashmir',\n",
       "       'Jharkhand', 'Karnataka', 'Kerala', 'Lakshadweep',\n",
       "       'Madhya Pradesh', 'Maharashtra', 'Manipur', 'Meghalaya', 'Mizoram',\n",
       "       'Nagaland', 'Odisha', 'Puducherry', 'Punjab', 'Rajasthan',\n",
       "       'Sikkim', 'Tamil Nadu', 'Tripura', 'Uttar Pradesh', 'Uttarakhand',\n",
       "       'West Bengal', 'Dadra & Nagar Haveli', 'Daman & Diu'], dtype=object)"
      ]
     },
     "execution_count": 7,
     "metadata": {},
     "output_type": "execute_result"
    }
   ],
   "source": [
    "df['Area_Name'].unique()"
   ]
  },
  {
   "cell_type": "markdown",
   "metadata": {},
   "source": [
    "### Total number of muders"
   ]
  },
  {
   "cell_type": "code",
   "execution_count": 13,
   "metadata": {},
   "outputs": [
    {
     "name": "stdout",
     "output_type": "stream",
     "text": [
      "Total Number of Murders from 2001-2010 = 347854\n"
     ]
    }
   ],
   "source": [
    "print('Total Number of Murders from 2001-2010 = ' +  str(df[df['Sub_Group_Name'] == '3. Total']['Victims_Total'].sum()))"
   ]
  },
  {
   "cell_type": "markdown",
   "metadata": {},
   "source": [
    "### Total number of muders (groupby)"
   ]
  },
  {
   "cell_type": "code",
   "execution_count": 14,
   "metadata": {},
   "outputs": [
    {
     "data": {
      "text/plain": [
       "Sub_Group_Name\n",
       "1. Male Victims      266274\n",
       "2. Female Victims     81580\n",
       "3. Total             347854\n",
       "Name: Victims_Total, dtype: int64"
      ]
     },
     "execution_count": 14,
     "metadata": {},
     "output_type": "execute_result"
    }
   ],
   "source": [
    "df.groupby(\"Sub_Group_Name\")['Victims_Total'].sum()"
   ]
  },
  {
   "cell_type": "markdown",
   "metadata": {},
   "source": [
    "### States with the highest number of murders"
   ]
  },
  {
   "cell_type": "code",
   "execution_count": 22,
   "metadata": {},
   "outputs": [
    {
     "data": {
      "text/plain": [
       "Area_Name\n",
       "Uttar Pradesh     58810\n",
       "Bihar             34675\n",
       "Maharashtra       28693\n",
       "Andhra Pradesh    27481\n",
       "Madhya Pradesh    23694\n",
       "Name: Victims_Total, dtype: int64"
      ]
     },
     "execution_count": 22,
     "metadata": {},
     "output_type": "execute_result"
    }
   ],
   "source": [
    "#Filtering dataframe so that we do not get redundant values\n",
    "df[df['Sub_Group_Name'] == '3. Total'].groupby(\"Area_Name\")['Victims_Total'].sum().sort_values(ascending = False).head(5)"
   ]
  },
  {
   "cell_type": "markdown",
   "metadata": {},
   "source": [
    "### Which year had the most murders"
   ]
  },
  {
   "cell_type": "code",
   "execution_count": 23,
   "metadata": {},
   "outputs": [
    {
     "data": {
      "text/plain": [
       "Year\n",
       "2001    38636\n",
       "2002    38033\n",
       "2004    34915\n",
       "2005    34419\n",
       "2010    33908\n",
       "Name: Victims_Total, dtype: int64"
      ]
     },
     "execution_count": 23,
     "metadata": {},
     "output_type": "execute_result"
    }
   ],
   "source": [
    "df[df['Sub_Group_Name'] == '3. Total'].groupby(\"Year\")['Victims_Total'].sum().sort_values(ascending = False).head(5)"
   ]
  },
  {
   "cell_type": "markdown",
   "metadata": {},
   "source": [
    "### Age group having higest number of murders"
   ]
  },
  {
   "cell_type": "code",
   "execution_count": 24,
   "metadata": {},
   "outputs": [
    {
     "data": {
      "text/plain": [
       "Area_Name                 Andaman & Nicobar IslandsAndhra PradeshArunach...\n",
       "Year                                                                 685883\n",
       "Group_Name                Murder - Total VictimsMurder - Total VictimsMu...\n",
       "Sub_Group_Name            3. Total3. Total3. Total3. Total3. Total3. Tot...\n",
       "Victims_Above_50_Yrs                                                  32496\n",
       "Victims_Total                                                        347854\n",
       "Victims_Upto_10_15_Yrs                                                 4177\n",
       "Victims_Upto_10_Yrs                                                    6627\n",
       "Victims_Upto_15_18_Yrs                                                 7693\n",
       "Victims_Upto_18_30_Yrs                                               158786\n",
       "Victims_Upto_30_50_Yrs                                               138075\n",
       "dtype: object"
      ]
     },
     "execution_count": 24,
     "metadata": {},
     "output_type": "execute_result"
    }
   ],
   "source": [
    "df[df['Sub_Group_Name'] == '3. Total'].sum()"
   ]
  },
  {
   "cell_type": "code",
   "execution_count": null,
   "metadata": {},
   "outputs": [],
   "source": []
  }
 ],
 "metadata": {
  "kernelspec": {
   "display_name": "Python 3",
   "language": "python",
   "name": "python3"
  },
  "language_info": {
   "codemirror_mode": {
    "name": "ipython",
    "version": 3
   },
   "file_extension": ".py",
   "mimetype": "text/x-python",
   "name": "python",
   "nbconvert_exporter": "python",
   "pygments_lexer": "ipython3",
   "version": "3.6.7"
  }
 },
 "nbformat": 4,
 "nbformat_minor": 2
}
