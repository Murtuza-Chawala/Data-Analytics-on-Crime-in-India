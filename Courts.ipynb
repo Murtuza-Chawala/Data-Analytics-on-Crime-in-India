{
 "cells": [
  {
   "cell_type": "code",
   "execution_count": 1,
   "metadata": {},
   "outputs": [],
   "source": [
    "import numpy as np\n",
    "import pandas as pd"
   ]
  },
  {
   "cell_type": "code",
   "execution_count": 2,
   "metadata": {},
   "outputs": [],
   "source": [
    "df = pd.read_csv('C:/Users/Murtuz/Desktop/Datasets/crime-in-india/29_Period_of_trials_by_courts.csv')"
   ]
  },
  {
   "cell_type": "code",
   "execution_count": 3,
   "metadata": {},
   "outputs": [
    {
     "data": {
      "text/html": [
       "<div>\n",
       "<style scoped>\n",
       "    .dataframe tbody tr th:only-of-type {\n",
       "        vertical-align: middle;\n",
       "    }\n",
       "\n",
       "    .dataframe tbody tr th {\n",
       "        vertical-align: top;\n",
       "    }\n",
       "\n",
       "    .dataframe thead th {\n",
       "        text-align: right;\n",
       "    }\n",
       "</style>\n",
       "<table border=\"1\" class=\"dataframe\">\n",
       "  <thead>\n",
       "    <tr style=\"text-align: right;\">\n",
       "      <th></th>\n",
       "      <th>Area_Name</th>\n",
       "      <th>Year</th>\n",
       "      <th>Group_Name</th>\n",
       "      <th>Sub_Group_Name</th>\n",
       "      <th>PT_1_3_Years</th>\n",
       "      <th>PT_3_5_Years</th>\n",
       "      <th>PT_5_10_Years</th>\n",
       "      <th>PT_6_12_Months</th>\n",
       "      <th>PT_Less_than_6_Months</th>\n",
       "      <th>PT_Over_10_Years</th>\n",
       "      <th>PT_Total</th>\n",
       "    </tr>\n",
       "  </thead>\n",
       "  <tbody>\n",
       "    <tr>\n",
       "      <th>0</th>\n",
       "      <td>Andhra Pradesh</td>\n",
       "      <td>2004</td>\n",
       "      <td>PT1. District/Session Judge</td>\n",
       "      <td>1. District/Session Judge</td>\n",
       "      <td>1931.0</td>\n",
       "      <td>805.0</td>\n",
       "      <td>196.0</td>\n",
       "      <td>293.0</td>\n",
       "      <td>44.0</td>\n",
       "      <td>57.0</td>\n",
       "      <td>3326.0</td>\n",
       "    </tr>\n",
       "    <tr>\n",
       "      <th>1</th>\n",
       "      <td>Arunachal Pradesh</td>\n",
       "      <td>2004</td>\n",
       "      <td>PT1. District/Session Judge</td>\n",
       "      <td>1. District/Session Judge</td>\n",
       "      <td>13.0</td>\n",
       "      <td>6.0</td>\n",
       "      <td>0.0</td>\n",
       "      <td>5.0</td>\n",
       "      <td>0.0</td>\n",
       "      <td>0.0</td>\n",
       "      <td>24.0</td>\n",
       "    </tr>\n",
       "    <tr>\n",
       "      <th>2</th>\n",
       "      <td>Assam</td>\n",
       "      <td>2004</td>\n",
       "      <td>PT1. District/Session Judge</td>\n",
       "      <td>1. District/Session Judge</td>\n",
       "      <td>582.0</td>\n",
       "      <td>444.0</td>\n",
       "      <td>170.0</td>\n",
       "      <td>127.0</td>\n",
       "      <td>69.0</td>\n",
       "      <td>22.0</td>\n",
       "      <td>1414.0</td>\n",
       "    </tr>\n",
       "    <tr>\n",
       "      <th>3</th>\n",
       "      <td>Bihar</td>\n",
       "      <td>2004</td>\n",
       "      <td>PT1. District/Session Judge</td>\n",
       "      <td>1. District/Session Judge</td>\n",
       "      <td>297.0</td>\n",
       "      <td>590.0</td>\n",
       "      <td>594.0</td>\n",
       "      <td>11.0</td>\n",
       "      <td>0.0</td>\n",
       "      <td>233.0</td>\n",
       "      <td>1725.0</td>\n",
       "    </tr>\n",
       "    <tr>\n",
       "      <th>4</th>\n",
       "      <td>Chhattisgarh</td>\n",
       "      <td>2004</td>\n",
       "      <td>PT1. District/Session Judge</td>\n",
       "      <td>1. District/Session Judge</td>\n",
       "      <td>239.0</td>\n",
       "      <td>171.0</td>\n",
       "      <td>72.0</td>\n",
       "      <td>222.0</td>\n",
       "      <td>271.0</td>\n",
       "      <td>17.0</td>\n",
       "      <td>992.0</td>\n",
       "    </tr>\n",
       "  </tbody>\n",
       "</table>\n",
       "</div>"
      ],
      "text/plain": [
       "           Area_Name  Year                   Group_Name  \\\n",
       "0     Andhra Pradesh  2004  PT1. District/Session Judge   \n",
       "1  Arunachal Pradesh  2004  PT1. District/Session Judge   \n",
       "2              Assam  2004  PT1. District/Session Judge   \n",
       "3              Bihar  2004  PT1. District/Session Judge   \n",
       "4       Chhattisgarh  2004  PT1. District/Session Judge   \n",
       "\n",
       "              Sub_Group_Name  PT_1_3_Years  PT_3_5_Years  PT_5_10_Years  \\\n",
       "0  1. District/Session Judge        1931.0         805.0          196.0   \n",
       "1  1. District/Session Judge          13.0           6.0            0.0   \n",
       "2  1. District/Session Judge         582.0         444.0          170.0   \n",
       "3  1. District/Session Judge         297.0         590.0          594.0   \n",
       "4  1. District/Session Judge         239.0         171.0           72.0   \n",
       "\n",
       "   PT_6_12_Months  PT_Less_than_6_Months  PT_Over_10_Years  PT_Total  \n",
       "0           293.0                   44.0              57.0    3326.0  \n",
       "1             5.0                    0.0               0.0      24.0  \n",
       "2           127.0                   69.0              22.0    1414.0  \n",
       "3            11.0                    0.0             233.0    1725.0  \n",
       "4           222.0                  271.0              17.0     992.0  "
      ]
     },
     "execution_count": 3,
     "metadata": {},
     "output_type": "execute_result"
    }
   ],
   "source": [
    "df.head()"
   ]
  },
  {
   "cell_type": "code",
   "execution_count": 4,
   "metadata": {},
   "outputs": [
    {
     "data": {
      "text/plain": [
       "array([2004, 2005, 2006, 2007, 2008, 2009, 2010], dtype=int64)"
      ]
     },
     "execution_count": 4,
     "metadata": {},
     "output_type": "execute_result"
    }
   ],
   "source": [
    "df['Year'].unique()"
   ]
  },
  {
   "cell_type": "code",
   "execution_count": 6,
   "metadata": {},
   "outputs": [
    {
     "data": {
      "text/plain": [
       "array(['PT1. District/Session Judge', 'PT2. Additional Session Judge',\n",
       "       'PT3. Chief Judicial Magistrate', 'PT4. Judicial Magistrate (I)',\n",
       "       'PT5. Judicial Magistrate (II)',\n",
       "       'PT6. Special Judicial Magistrate', 'PT7. Other courts (if any)',\n",
       "       'PT8. Total of Courts'], dtype=object)"
      ]
     },
     "execution_count": 6,
     "metadata": {},
     "output_type": "execute_result"
    }
   ],
   "source": [
    "df['Group_Name'].unique()"
   ]
  },
  {
   "cell_type": "code",
   "execution_count": 7,
   "metadata": {},
   "outputs": [
    {
     "data": {
      "text/plain": [
       "array(['1. District/Session Judge', '2. Additional Session Judge',\n",
       "       '3. Chief Judicial Magistrate', '4. Judicial Magistrate (I)',\n",
       "       '5. Judicial Magistrate (II)', '6. Special Judicial Magistrate',\n",
       "       '7. Other courts ', '8. Total Trials (Sum of 1-7 Above)'],\n",
       "      dtype=object)"
      ]
     },
     "execution_count": 7,
     "metadata": {},
     "output_type": "execute_result"
    }
   ],
   "source": [
    "df['Sub_Group_Name'].unique()"
   ]
  },
  {
   "cell_type": "code",
   "execution_count": 12,
   "metadata": {},
   "outputs": [],
   "source": [
    "#df[df['Sub_Group_Name'] == '8. Total Trials (Sum of 1-7 Above)'].sum()"
   ]
  },
  {
   "cell_type": "markdown",
   "metadata": {},
   "source": [
    "### Which states have highest period of trials > 10 years"
   ]
  },
  {
   "cell_type": "code",
   "execution_count": 8,
   "metadata": {},
   "outputs": [
    {
     "data": {
      "text/plain": [
       "Area_Name\n",
       "Maharashtra       34606.0\n",
       "Bihar             32957.0\n",
       "Uttar Pradesh     32580.0\n",
       "Jharkhand         22133.0\n",
       "Madhya Pradesh    20987.0\n",
       "Rajasthan         14157.0\n",
       "West Bengal       10372.0\n",
       "Name: PT_Over_10_Years, dtype: float64"
      ]
     },
     "execution_count": 8,
     "metadata": {},
     "output_type": "execute_result"
    }
   ],
   "source": [
    "df[df['Group_Name'] == 'PT8. Total of Courts'].groupby(\"Area_Name\")['PT_Over_10_Years'].sum().sort_values(ascending = False).head(7)"
   ]
  },
  {
   "cell_type": "markdown",
   "metadata": {},
   "source": [
    "### Which states have highest number of trials "
   ]
  },
  {
   "cell_type": "code",
   "execution_count": 14,
   "metadata": {},
   "outputs": [
    {
     "data": {
      "text/plain": [
       "Area_Name\n",
       "Tamil Nadu        896770.0\n",
       "Madhya Pradesh    788922.0\n",
       "Uttar Pradesh     647293.0\n",
       "Andhra Pradesh    615655.0\n",
       "Kerala            537233.0\n",
       "Karnataka         513548.0\n",
       "Maharashtra       509777.0\n",
       "Rajasthan         456548.0\n",
       "Gujarat           388137.0\n",
       "Bihar             345464.0\n",
       "Name: PT_Total, dtype: float64"
      ]
     },
     "execution_count": 14,
     "metadata": {},
     "output_type": "execute_result"
    }
   ],
   "source": [
    "df[df['Group_Name'] == 'PT8. Total of Courts'].groupby(\"Area_Name\")['PT_Total'].sum().sort_values(ascending = False).head(10)"
   ]
  },
  {
   "cell_type": "markdown",
   "metadata": {},
   "source": [
    "### Total Number of trials between 2004-2010"
   ]
  },
  {
   "cell_type": "code",
   "execution_count": 17,
   "metadata": {},
   "outputs": [
    {
     "name": "stdout",
     "output_type": "stream",
     "text": [
      "The total number of trials in court = 7259795.0\n"
     ]
    }
   ],
   "source": [
    "print('The total number of trials in court = ' + str(df[df['Group_Name'] == 'PT8. Total of Courts']['PT_Total'].sum()))"
   ]
  },
  {
   "cell_type": "code",
   "execution_count": 18,
   "metadata": {},
   "outputs": [
    {
     "name": "stdout",
     "output_type": "stream",
     "text": [
      "The total number of trials 3_5 years in court = 1650126.0\n"
     ]
    }
   ],
   "source": [
    "print('The total number of trials 3_5 years in court = ' + str(df[df['Group_Name'] == 'PT8. Total of Courts']['PT_3_5_Years'].sum()))"
   ]
  },
  {
   "cell_type": "code",
   "execution_count": 19,
   "metadata": {},
   "outputs": [
    {
     "name": "stdout",
     "output_type": "stream",
     "text": [
      "The total number of trials 5_10 years in court = 829064.0\n"
     ]
    }
   ],
   "source": [
    "print('The total number of trials 5_10 years in court = ' + str(df[df['Group_Name'] == 'PT8. Total of Courts']['PT_5_10_Years'].sum()))"
   ]
  },
  {
   "cell_type": "code",
   "execution_count": 21,
   "metadata": {},
   "outputs": [
    {
     "data": {
      "text/plain": [
       "Sub_Group_Name\n",
       "8. Total Trials (Sum of 1-7 Above)    7259795.0\n",
       "4. Judicial Magistrate (I)            3009520.0\n",
       "5. Judicial Magistrate (II)           1346109.0\n",
       "3. Chief Judicial Magistrate          1009960.0\n",
       "7. Other courts                        615586.0\n",
       "2. Additional Session Judge            591455.0\n",
       "6. Special Judicial Magistrate         374184.0\n",
       "1. District/Session Judge              312981.0\n",
       "Name: PT_Total, dtype: float64"
      ]
     },
     "execution_count": 21,
     "metadata": {},
     "output_type": "execute_result"
    }
   ],
   "source": [
    "df.groupby(\"Sub_Group_Name\")['PT_Total'].sum().sort_values(ascending = False)"
   ]
  },
  {
   "cell_type": "code",
   "execution_count": null,
   "metadata": {},
   "outputs": [],
   "source": []
  }
 ],
 "metadata": {
  "kernelspec": {
   "display_name": "Python 3",
   "language": "python",
   "name": "python3"
  },
  "language_info": {
   "codemirror_mode": {
    "name": "ipython",
    "version": 3
   },
   "file_extension": ".py",
   "mimetype": "text/x-python",
   "name": "python",
   "nbconvert_exporter": "python",
   "pygments_lexer": "ipython3",
   "version": "3.7.1"
  }
 },
 "nbformat": 4,
 "nbformat_minor": 2
}
