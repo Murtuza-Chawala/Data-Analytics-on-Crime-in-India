{
 "cells": [
  {
   "cell_type": "code",
   "execution_count": 1,
   "metadata": {},
   "outputs": [],
   "source": [
    "import numpy as np\n",
    "import pandas as pd"
   ]
  },
  {
   "cell_type": "code",
   "execution_count": 3,
   "metadata": {},
   "outputs": [],
   "source": [
    "df = pd.read_csv('C:/Users/Murtuz/Desktop/Datasets/crime-in-india/39_Specific_purpose_of_kidnapping_and_abduction.csv')"
   ]
  },
  {
   "cell_type": "code",
   "execution_count": 5,
   "metadata": {
    "scrolled": true
   },
   "outputs": [
    {
     "data": {
      "text/html": [
       "<div>\n",
       "<style scoped>\n",
       "    .dataframe tbody tr th:only-of-type {\n",
       "        vertical-align: middle;\n",
       "    }\n",
       "\n",
       "    .dataframe tbody tr th {\n",
       "        vertical-align: top;\n",
       "    }\n",
       "\n",
       "    .dataframe thead th {\n",
       "        text-align: right;\n",
       "    }\n",
       "</style>\n",
       "<table border=\"1\" class=\"dataframe\">\n",
       "  <thead>\n",
       "    <tr style=\"text-align: right;\">\n",
       "      <th></th>\n",
       "      <th>Area_Name</th>\n",
       "      <th>Year</th>\n",
       "      <th>Group_Name</th>\n",
       "      <th>Sub_Group_Name</th>\n",
       "      <th>K_A_Cases_Reported</th>\n",
       "      <th>K_A_Female_10_15_Years</th>\n",
       "      <th>K_A_Female_15_18_Years</th>\n",
       "      <th>K_A_Female_18_30_Years</th>\n",
       "      <th>K_A_Female_30_50_Years</th>\n",
       "      <th>K_A_Female_Above_50_Years</th>\n",
       "      <th>K_A_Female_Total</th>\n",
       "      <th>K_A_Female_Upto_10_Years</th>\n",
       "      <th>K_A_Grand_Total</th>\n",
       "      <th>K_A_Male_10_15_Years</th>\n",
       "      <th>K_A_Male_15_18_Years</th>\n",
       "      <th>K_A_Male_18_30_Years</th>\n",
       "      <th>K_A_Male_30_50_Years</th>\n",
       "      <th>K_A_Male_Above_50_Years</th>\n",
       "      <th>K_A_Male_Total</th>\n",
       "      <th>K_A_Male_Upto_10_Years</th>\n",
       "    </tr>\n",
       "  </thead>\n",
       "  <tbody>\n",
       "    <tr>\n",
       "      <th>0</th>\n",
       "      <td>Andhra Pradesh</td>\n",
       "      <td>2001</td>\n",
       "      <td>Kidnap - For Adoption</td>\n",
       "      <td>01. For Adoption</td>\n",
       "      <td>8.0</td>\n",
       "      <td>0.0</td>\n",
       "      <td>0.0</td>\n",
       "      <td>4.0</td>\n",
       "      <td>0.0</td>\n",
       "      <td>0.0</td>\n",
       "      <td>5.0</td>\n",
       "      <td>1.0</td>\n",
       "      <td>8.0</td>\n",
       "      <td>0.0</td>\n",
       "      <td>0.0</td>\n",
       "      <td>0.0</td>\n",
       "      <td>0.0</td>\n",
       "      <td>0.0</td>\n",
       "      <td>3.0</td>\n",
       "      <td>3.0</td>\n",
       "    </tr>\n",
       "    <tr>\n",
       "      <th>1</th>\n",
       "      <td>Arunachal Pradesh</td>\n",
       "      <td>2001</td>\n",
       "      <td>Kidnap - For Adoption</td>\n",
       "      <td>01. For Adoption</td>\n",
       "      <td>0.0</td>\n",
       "      <td>0.0</td>\n",
       "      <td>0.0</td>\n",
       "      <td>0.0</td>\n",
       "      <td>0.0</td>\n",
       "      <td>0.0</td>\n",
       "      <td>0.0</td>\n",
       "      <td>0.0</td>\n",
       "      <td>0.0</td>\n",
       "      <td>0.0</td>\n",
       "      <td>0.0</td>\n",
       "      <td>0.0</td>\n",
       "      <td>0.0</td>\n",
       "      <td>0.0</td>\n",
       "      <td>0.0</td>\n",
       "      <td>0.0</td>\n",
       "    </tr>\n",
       "    <tr>\n",
       "      <th>2</th>\n",
       "      <td>Assam</td>\n",
       "      <td>2001</td>\n",
       "      <td>Kidnap - For Adoption</td>\n",
       "      <td>01. For Adoption</td>\n",
       "      <td>0.0</td>\n",
       "      <td>0.0</td>\n",
       "      <td>0.0</td>\n",
       "      <td>0.0</td>\n",
       "      <td>0.0</td>\n",
       "      <td>0.0</td>\n",
       "      <td>0.0</td>\n",
       "      <td>0.0</td>\n",
       "      <td>0.0</td>\n",
       "      <td>0.0</td>\n",
       "      <td>0.0</td>\n",
       "      <td>0.0</td>\n",
       "      <td>0.0</td>\n",
       "      <td>0.0</td>\n",
       "      <td>0.0</td>\n",
       "      <td>0.0</td>\n",
       "    </tr>\n",
       "    <tr>\n",
       "      <th>3</th>\n",
       "      <td>Bihar</td>\n",
       "      <td>2001</td>\n",
       "      <td>Kidnap - For Adoption</td>\n",
       "      <td>01. For Adoption</td>\n",
       "      <td>18.0</td>\n",
       "      <td>0.0</td>\n",
       "      <td>0.0</td>\n",
       "      <td>0.0</td>\n",
       "      <td>0.0</td>\n",
       "      <td>0.0</td>\n",
       "      <td>0.0</td>\n",
       "      <td>0.0</td>\n",
       "      <td>18.0</td>\n",
       "      <td>0.0</td>\n",
       "      <td>0.0</td>\n",
       "      <td>15.0</td>\n",
       "      <td>3.0</td>\n",
       "      <td>0.0</td>\n",
       "      <td>18.0</td>\n",
       "      <td>0.0</td>\n",
       "    </tr>\n",
       "    <tr>\n",
       "      <th>4</th>\n",
       "      <td>Chandigarh</td>\n",
       "      <td>2001</td>\n",
       "      <td>Kidnap - For Adoption</td>\n",
       "      <td>01. For Adoption</td>\n",
       "      <td>0.0</td>\n",
       "      <td>0.0</td>\n",
       "      <td>0.0</td>\n",
       "      <td>0.0</td>\n",
       "      <td>0.0</td>\n",
       "      <td>0.0</td>\n",
       "      <td>0.0</td>\n",
       "      <td>0.0</td>\n",
       "      <td>0.0</td>\n",
       "      <td>0.0</td>\n",
       "      <td>0.0</td>\n",
       "      <td>0.0</td>\n",
       "      <td>0.0</td>\n",
       "      <td>0.0</td>\n",
       "      <td>0.0</td>\n",
       "      <td>0.0</td>\n",
       "    </tr>\n",
       "    <tr>\n",
       "      <th>5</th>\n",
       "      <td>Chhattisgarh</td>\n",
       "      <td>2001</td>\n",
       "      <td>Kidnap - For Adoption</td>\n",
       "      <td>01. For Adoption</td>\n",
       "      <td>6.0</td>\n",
       "      <td>2.0</td>\n",
       "      <td>1.0</td>\n",
       "      <td>3.0</td>\n",
       "      <td>0.0</td>\n",
       "      <td>0.0</td>\n",
       "      <td>6.0</td>\n",
       "      <td>0.0</td>\n",
       "      <td>6.0</td>\n",
       "      <td>0.0</td>\n",
       "      <td>0.0</td>\n",
       "      <td>0.0</td>\n",
       "      <td>0.0</td>\n",
       "      <td>0.0</td>\n",
       "      <td>0.0</td>\n",
       "      <td>0.0</td>\n",
       "    </tr>\n",
       "    <tr>\n",
       "      <th>6</th>\n",
       "      <td>Delhi</td>\n",
       "      <td>2001</td>\n",
       "      <td>Kidnap - For Adoption</td>\n",
       "      <td>01. For Adoption</td>\n",
       "      <td>5.0</td>\n",
       "      <td>1.0</td>\n",
       "      <td>NaN</td>\n",
       "      <td>NaN</td>\n",
       "      <td>NaN</td>\n",
       "      <td>NaN</td>\n",
       "      <td>1.0</td>\n",
       "      <td>NaN</td>\n",
       "      <td>7.0</td>\n",
       "      <td>1.0</td>\n",
       "      <td>NaN</td>\n",
       "      <td>1.0</td>\n",
       "      <td>2.0</td>\n",
       "      <td>NaN</td>\n",
       "      <td>6.0</td>\n",
       "      <td>2.0</td>\n",
       "    </tr>\n",
       "    <tr>\n",
       "      <th>7</th>\n",
       "      <td>Gujarat</td>\n",
       "      <td>2001</td>\n",
       "      <td>Kidnap - For Adoption</td>\n",
       "      <td>01. For Adoption</td>\n",
       "      <td>3.0</td>\n",
       "      <td>0.0</td>\n",
       "      <td>0.0</td>\n",
       "      <td>2.0</td>\n",
       "      <td>0.0</td>\n",
       "      <td>0.0</td>\n",
       "      <td>3.0</td>\n",
       "      <td>1.0</td>\n",
       "      <td>3.0</td>\n",
       "      <td>0.0</td>\n",
       "      <td>0.0</td>\n",
       "      <td>0.0</td>\n",
       "      <td>0.0</td>\n",
       "      <td>0.0</td>\n",
       "      <td>0.0</td>\n",
       "      <td>0.0</td>\n",
       "    </tr>\n",
       "    <tr>\n",
       "      <th>8</th>\n",
       "      <td>Haryana</td>\n",
       "      <td>2001</td>\n",
       "      <td>Kidnap - For Adoption</td>\n",
       "      <td>01. For Adoption</td>\n",
       "      <td>0.0</td>\n",
       "      <td>0.0</td>\n",
       "      <td>0.0</td>\n",
       "      <td>0.0</td>\n",
       "      <td>0.0</td>\n",
       "      <td>0.0</td>\n",
       "      <td>0.0</td>\n",
       "      <td>0.0</td>\n",
       "      <td>0.0</td>\n",
       "      <td>0.0</td>\n",
       "      <td>0.0</td>\n",
       "      <td>0.0</td>\n",
       "      <td>0.0</td>\n",
       "      <td>0.0</td>\n",
       "      <td>0.0</td>\n",
       "      <td>0.0</td>\n",
       "    </tr>\n",
       "    <tr>\n",
       "      <th>9</th>\n",
       "      <td>Himachal Pradesh</td>\n",
       "      <td>2001</td>\n",
       "      <td>Kidnap - For Adoption</td>\n",
       "      <td>01. For Adoption</td>\n",
       "      <td>0.0</td>\n",
       "      <td>0.0</td>\n",
       "      <td>0.0</td>\n",
       "      <td>0.0</td>\n",
       "      <td>0.0</td>\n",
       "      <td>0.0</td>\n",
       "      <td>0.0</td>\n",
       "      <td>0.0</td>\n",
       "      <td>0.0</td>\n",
       "      <td>0.0</td>\n",
       "      <td>0.0</td>\n",
       "      <td>0.0</td>\n",
       "      <td>0.0</td>\n",
       "      <td>0.0</td>\n",
       "      <td>0.0</td>\n",
       "      <td>0.0</td>\n",
       "    </tr>\n",
       "  </tbody>\n",
       "</table>\n",
       "</div>"
      ],
      "text/plain": [
       "           Area_Name  Year             Group_Name    Sub_Group_Name  \\\n",
       "0     Andhra Pradesh  2001  Kidnap - For Adoption  01. For Adoption   \n",
       "1  Arunachal Pradesh  2001  Kidnap - For Adoption  01. For Adoption   \n",
       "2              Assam  2001  Kidnap - For Adoption  01. For Adoption   \n",
       "3              Bihar  2001  Kidnap - For Adoption  01. For Adoption   \n",
       "4         Chandigarh  2001  Kidnap - For Adoption  01. For Adoption   \n",
       "5       Chhattisgarh  2001  Kidnap - For Adoption  01. For Adoption   \n",
       "6              Delhi  2001  Kidnap - For Adoption  01. For Adoption   \n",
       "7            Gujarat  2001  Kidnap - For Adoption  01. For Adoption   \n",
       "8            Haryana  2001  Kidnap - For Adoption  01. For Adoption   \n",
       "9   Himachal Pradesh  2001  Kidnap - For Adoption  01. For Adoption   \n",
       "\n",
       "   K_A_Cases_Reported  K_A_Female_10_15_Years  K_A_Female_15_18_Years  \\\n",
       "0                 8.0                     0.0                     0.0   \n",
       "1                 0.0                     0.0                     0.0   \n",
       "2                 0.0                     0.0                     0.0   \n",
       "3                18.0                     0.0                     0.0   \n",
       "4                 0.0                     0.0                     0.0   \n",
       "5                 6.0                     2.0                     1.0   \n",
       "6                 5.0                     1.0                     NaN   \n",
       "7                 3.0                     0.0                     0.0   \n",
       "8                 0.0                     0.0                     0.0   \n",
       "9                 0.0                     0.0                     0.0   \n",
       "\n",
       "   K_A_Female_18_30_Years  K_A_Female_30_50_Years  K_A_Female_Above_50_Years  \\\n",
       "0                     4.0                     0.0                        0.0   \n",
       "1                     0.0                     0.0                        0.0   \n",
       "2                     0.0                     0.0                        0.0   \n",
       "3                     0.0                     0.0                        0.0   \n",
       "4                     0.0                     0.0                        0.0   \n",
       "5                     3.0                     0.0                        0.0   \n",
       "6                     NaN                     NaN                        NaN   \n",
       "7                     2.0                     0.0                        0.0   \n",
       "8                     0.0                     0.0                        0.0   \n",
       "9                     0.0                     0.0                        0.0   \n",
       "\n",
       "   K_A_Female_Total  K_A_Female_Upto_10_Years  K_A_Grand_Total  \\\n",
       "0               5.0                       1.0              8.0   \n",
       "1               0.0                       0.0              0.0   \n",
       "2               0.0                       0.0              0.0   \n",
       "3               0.0                       0.0             18.0   \n",
       "4               0.0                       0.0              0.0   \n",
       "5               6.0                       0.0              6.0   \n",
       "6               1.0                       NaN              7.0   \n",
       "7               3.0                       1.0              3.0   \n",
       "8               0.0                       0.0              0.0   \n",
       "9               0.0                       0.0              0.0   \n",
       "\n",
       "   K_A_Male_10_15_Years  K_A_Male_15_18_Years  K_A_Male_18_30_Years  \\\n",
       "0                   0.0                   0.0                   0.0   \n",
       "1                   0.0                   0.0                   0.0   \n",
       "2                   0.0                   0.0                   0.0   \n",
       "3                   0.0                   0.0                  15.0   \n",
       "4                   0.0                   0.0                   0.0   \n",
       "5                   0.0                   0.0                   0.0   \n",
       "6                   1.0                   NaN                   1.0   \n",
       "7                   0.0                   0.0                   0.0   \n",
       "8                   0.0                   0.0                   0.0   \n",
       "9                   0.0                   0.0                   0.0   \n",
       "\n",
       "   K_A_Male_30_50_Years  K_A_Male_Above_50_Years  K_A_Male_Total  \\\n",
       "0                   0.0                      0.0             3.0   \n",
       "1                   0.0                      0.0             0.0   \n",
       "2                   0.0                      0.0             0.0   \n",
       "3                   3.0                      0.0            18.0   \n",
       "4                   0.0                      0.0             0.0   \n",
       "5                   0.0                      0.0             0.0   \n",
       "6                   2.0                      NaN             6.0   \n",
       "7                   0.0                      0.0             0.0   \n",
       "8                   0.0                      0.0             0.0   \n",
       "9                   0.0                      0.0             0.0   \n",
       "\n",
       "   K_A_Male_Upto_10_Years  \n",
       "0                     3.0  \n",
       "1                     0.0  \n",
       "2                     0.0  \n",
       "3                     0.0  \n",
       "4                     0.0  \n",
       "5                     0.0  \n",
       "6                     2.0  \n",
       "7                     0.0  \n",
       "8                     0.0  \n",
       "9                     0.0  "
      ]
     },
     "execution_count": 5,
     "metadata": {},
     "output_type": "execute_result"
    }
   ],
   "source": [
    "df.head(10)"
   ]
  },
  {
   "cell_type": "code",
   "execution_count": 7,
   "metadata": {},
   "outputs": [
    {
     "data": {
      "text/plain": [
       "array(['Kidnap - For Adoption', 'Kidnap - For Begging',\n",
       "       'Kidnap - For Camel Racing', 'Kidnap - For Illicit Intercourse',\n",
       "       'Kidnap - For Marriage', 'Kidnap - For Prostitution',\n",
       "       'Kidnap - For Ransom', 'Kidnap - For Revenge', 'Kidnap - For Sale',\n",
       "       'Kidnap - For Selling Bodyparts', 'Kidnap - For Slavery',\n",
       "       'Kidnap - For Unlawful Activity', 'Kidnap - For Other Purposes',\n",
       "       'Kidnap - Total'], dtype=object)"
      ]
     },
     "execution_count": 7,
     "metadata": {},
     "output_type": "execute_result"
    }
   ],
   "source": [
    "df['Group_Name'].unique()"
   ]
  },
  {
   "cell_type": "code",
   "execution_count": 8,
   "metadata": {},
   "outputs": [
    {
     "data": {
      "text/plain": [
       "array(['01. For Adoption', '02. For Begging', '03. for Camel Racing',\n",
       "       '04. For Illicit Intercourse', '05. For Marriage',\n",
       "       '06. For Prostitution', '07. For Ransom', '08. For Revenge',\n",
       "       '09. For Sale', '10. For Selling Bodyparts', '11. For Slavery',\n",
       "       '12. For Unlawful Activity', '13. Other Purposes',\n",
       "       '14. Total (Sum of 1-13 Above)'], dtype=object)"
      ]
     },
     "execution_count": 8,
     "metadata": {},
     "output_type": "execute_result"
    }
   ],
   "source": [
    "df['Sub_Group_Name'].unique()"
   ]
  },
  {
   "cell_type": "code",
   "execution_count": 69,
   "metadata": {},
   "outputs": [
    {
     "data": {
      "text/plain": [
       "array([2001, 2002, 2003, 2004, 2005, 2006, 2007, 2008, 2009, 2010],\n",
       "      dtype=int64)"
      ]
     },
     "execution_count": 69,
     "metadata": {},
     "output_type": "execute_result"
    }
   ],
   "source": [
    "df['Year'].unique()"
   ]
  },
  {
   "cell_type": "code",
   "execution_count": 11,
   "metadata": {},
   "outputs": [
    {
     "data": {
      "text/plain": [
       "Index(['Area_Name', 'Year', 'Group_Name', 'Sub_Group_Name',\n",
       "       'K_A_Cases_Reported', 'K_A_Female_10_15_Years',\n",
       "       'K_A_Female_15_18_Years', 'K_A_Female_18_30_Years',\n",
       "       'K_A_Female_30_50_Years', 'K_A_Female_Above_50_Years',\n",
       "       'K_A_Female_Total', 'K_A_Female_Upto_10_Years', 'K_A_Grand_Total',\n",
       "       'K_A_Male_10_15_Years', 'K_A_Male_15_18_Years', 'K_A_Male_18_30_Years',\n",
       "       'K_A_Male_30_50_Years', 'K_A_Male_Above_50_Years', 'K_A_Male_Total',\n",
       "       'K_A_Male_Upto_10_Years'],\n",
       "      dtype='object')"
      ]
     },
     "execution_count": 11,
     "metadata": {},
     "output_type": "execute_result"
    }
   ],
   "source": [
    "df.columns"
   ]
  },
  {
   "cell_type": "markdown",
   "metadata": {},
   "source": [
    "## Most popular motive for kidnapping"
   ]
  },
  {
   "cell_type": "code",
   "execution_count": 12,
   "metadata": {},
   "outputs": [],
   "source": [
    "#We will take Sub_Group_Name and KA_Grand_Total columns in a sepearate set and work with it\n",
    "reason = df[['Sub_Group_Name','K_A_Grand_Total']]"
   ]
  },
  {
   "cell_type": "code",
   "execution_count": 13,
   "metadata": {},
   "outputs": [
    {
     "data": {
      "text/html": [
       "<div>\n",
       "<style scoped>\n",
       "    .dataframe tbody tr th:only-of-type {\n",
       "        vertical-align: middle;\n",
       "    }\n",
       "\n",
       "    .dataframe tbody tr th {\n",
       "        vertical-align: top;\n",
       "    }\n",
       "\n",
       "    .dataframe thead th {\n",
       "        text-align: right;\n",
       "    }\n",
       "</style>\n",
       "<table border=\"1\" class=\"dataframe\">\n",
       "  <thead>\n",
       "    <tr style=\"text-align: right;\">\n",
       "      <th></th>\n",
       "      <th>Sub_Group_Name</th>\n",
       "      <th>K_A_Grand_Total</th>\n",
       "    </tr>\n",
       "  </thead>\n",
       "  <tbody>\n",
       "    <tr>\n",
       "      <th>0</th>\n",
       "      <td>01. For Adoption</td>\n",
       "      <td>8.0</td>\n",
       "    </tr>\n",
       "    <tr>\n",
       "      <th>1</th>\n",
       "      <td>01. For Adoption</td>\n",
       "      <td>0.0</td>\n",
       "    </tr>\n",
       "    <tr>\n",
       "      <th>2</th>\n",
       "      <td>01. For Adoption</td>\n",
       "      <td>0.0</td>\n",
       "    </tr>\n",
       "    <tr>\n",
       "      <th>3</th>\n",
       "      <td>01. For Adoption</td>\n",
       "      <td>18.0</td>\n",
       "    </tr>\n",
       "    <tr>\n",
       "      <th>4</th>\n",
       "      <td>01. For Adoption</td>\n",
       "      <td>0.0</td>\n",
       "    </tr>\n",
       "  </tbody>\n",
       "</table>\n",
       "</div>"
      ],
      "text/plain": [
       "     Sub_Group_Name  K_A_Grand_Total\n",
       "0  01. For Adoption              8.0\n",
       "1  01. For Adoption              0.0\n",
       "2  01. For Adoption              0.0\n",
       "3  01. For Adoption             18.0\n",
       "4  01. For Adoption              0.0"
      ]
     },
     "execution_count": 13,
     "metadata": {},
     "output_type": "execute_result"
    }
   ],
   "source": [
    "reason.head()"
   ]
  },
  {
   "cell_type": "code",
   "execution_count": 15,
   "metadata": {},
   "outputs": [
    {
     "data": {
      "text/html": [
       "<div>\n",
       "<style scoped>\n",
       "    .dataframe tbody tr th:only-of-type {\n",
       "        vertical-align: middle;\n",
       "    }\n",
       "\n",
       "    .dataframe tbody tr th {\n",
       "        vertical-align: top;\n",
       "    }\n",
       "\n",
       "    .dataframe thead th {\n",
       "        text-align: right;\n",
       "    }\n",
       "</style>\n",
       "<table border=\"1\" class=\"dataframe\">\n",
       "  <thead>\n",
       "    <tr style=\"text-align: right;\">\n",
       "      <th></th>\n",
       "      <th>K_A_Grand_Total</th>\n",
       "    </tr>\n",
       "    <tr>\n",
       "      <th>Sub_Group_Name</th>\n",
       "      <th></th>\n",
       "    </tr>\n",
       "  </thead>\n",
       "  <tbody>\n",
       "    <tr>\n",
       "      <th>14. Total (Sum of 1-13 Above)</th>\n",
       "      <td>268001.0</td>\n",
       "    </tr>\n",
       "    <tr>\n",
       "      <th>05. For Marriage</th>\n",
       "      <td>119107.0</td>\n",
       "    </tr>\n",
       "    <tr>\n",
       "      <th>13. Other Purposes</th>\n",
       "      <td>97505.0</td>\n",
       "    </tr>\n",
       "    <tr>\n",
       "      <th>04. For Illicit Intercourse</th>\n",
       "      <td>23552.0</td>\n",
       "    </tr>\n",
       "    <tr>\n",
       "      <th>07. For Ransom</th>\n",
       "      <td>9341.0</td>\n",
       "    </tr>\n",
       "    <tr>\n",
       "      <th>12. For Unlawful Activity</th>\n",
       "      <td>6360.0</td>\n",
       "    </tr>\n",
       "    <tr>\n",
       "      <th>08. For Revenge</th>\n",
       "      <td>5873.0</td>\n",
       "    </tr>\n",
       "    <tr>\n",
       "      <th>06. For Prostitution</th>\n",
       "      <td>3414.0</td>\n",
       "    </tr>\n",
       "    <tr>\n",
       "      <th>01. For Adoption</th>\n",
       "      <td>963.0</td>\n",
       "    </tr>\n",
       "    <tr>\n",
       "      <th>11. For Slavery</th>\n",
       "      <td>904.0</td>\n",
       "    </tr>\n",
       "    <tr>\n",
       "      <th>09. For Sale</th>\n",
       "      <td>686.0</td>\n",
       "    </tr>\n",
       "    <tr>\n",
       "      <th>02. For Begging</th>\n",
       "      <td>275.0</td>\n",
       "    </tr>\n",
       "    <tr>\n",
       "      <th>10. For Selling Bodyparts</th>\n",
       "      <td>16.0</td>\n",
       "    </tr>\n",
       "    <tr>\n",
       "      <th>03. for Camel Racing</th>\n",
       "      <td>5.0</td>\n",
       "    </tr>\n",
       "  </tbody>\n",
       "</table>\n",
       "</div>"
      ],
      "text/plain": [
       "                               K_A_Grand_Total\n",
       "Sub_Group_Name                                \n",
       "14. Total (Sum of 1-13 Above)         268001.0\n",
       "05. For Marriage                      119107.0\n",
       "13. Other Purposes                     97505.0\n",
       "04. For Illicit Intercourse            23552.0\n",
       "07. For Ransom                          9341.0\n",
       "12. For Unlawful Activity               6360.0\n",
       "08. For Revenge                         5873.0\n",
       "06. For Prostitution                    3414.0\n",
       "01. For Adoption                         963.0\n",
       "11. For Slavery                          904.0\n",
       "09. For Sale                             686.0\n",
       "02. For Begging                          275.0\n",
       "10. For Selling Bodyparts                 16.0\n",
       "03. for Camel Racing                       5.0"
      ]
     },
     "execution_count": 15,
     "metadata": {},
     "output_type": "execute_result"
    }
   ],
   "source": [
    "#Grouping column Sub_Group_Name,finding their sum and ordering them(DESC)\n",
    "reason.groupby(\"Sub_Group_Name\").sum().sort_values(by=['K_A_Grand_Total'], ascending=False)"
   ]
  },
  {
   "cell_type": "markdown",
   "metadata": {},
   "source": [
    "### 44.4 % kidnapping is done due to marriage reason"
   ]
  },
  {
   "cell_type": "code",
   "execution_count": 31,
   "metadata": {},
   "outputs": [
    {
     "data": {
      "text/plain": [
       "268001.0"
      ]
     },
     "execution_count": 31,
     "metadata": {},
     "output_type": "execute_result"
    }
   ],
   "source": [
    "#Total number of kidnapping happened = 2 lakh 68 k 1\n",
    "df['K_A_Grand_Total'].sum() - 268001.0"
   ]
  },
  {
   "cell_type": "code",
   "execution_count": 45,
   "metadata": {},
   "outputs": [
    {
     "data": {
      "text/plain": [
       "array(['Andhra Pradesh', 'Arunachal Pradesh', 'Assam', 'Bihar',\n",
       "       'Chandigarh', 'Chhattisgarh', 'Delhi', 'Gujarat', 'Haryana',\n",
       "       'Himachal Pradesh', 'Jammu & Kashmir', 'Jharkhand', 'Karnataka',\n",
       "       'Maharashtra', 'Meghalaya', 'Mizoram', 'Nagaland', 'Odisha',\n",
       "       'Punjab', 'Rajasthan', 'Sikkim', 'Tamil Nadu', 'Uttar Pradesh',\n",
       "       'West Bengal', 'Daman & Diu', 'Madhya Pradesh', 'Tripura',\n",
       "       'Puducherry', 'Kerala', 'Manipur', 'Dadra & Nagar Haveli', 'Goa',\n",
       "       'Uttarakhand', 'Andaman & Nicobar Islands', 'Lakshadweep'],\n",
       "      dtype=object)"
      ]
     },
     "execution_count": 45,
     "metadata": {},
     "output_type": "execute_result"
    }
   ],
   "source": [
    "df['Area_Name'].unique()\n",
    "#df['Area_Name'].nunique()"
   ]
  },
  {
   "cell_type": "markdown",
   "metadata": {},
   "source": [
    "## Which state has the highest kidnapping committed for prostitution"
   ]
  },
  {
   "cell_type": "code",
   "execution_count": 33,
   "metadata": {},
   "outputs": [],
   "source": [
    "pros = df[df['Sub_Group_Name'] == '06. For Prostitution']"
   ]
  },
  {
   "cell_type": "code",
   "execution_count": 60,
   "metadata": {},
   "outputs": [
    {
     "data": {
      "text/html": [
       "<div>\n",
       "<style scoped>\n",
       "    .dataframe tbody tr th:only-of-type {\n",
       "        vertical-align: middle;\n",
       "    }\n",
       "\n",
       "    .dataframe tbody tr th {\n",
       "        vertical-align: top;\n",
       "    }\n",
       "\n",
       "    .dataframe thead th {\n",
       "        text-align: right;\n",
       "    }\n",
       "</style>\n",
       "<table border=\"1\" class=\"dataframe\">\n",
       "  <thead>\n",
       "    <tr style=\"text-align: right;\">\n",
       "      <th></th>\n",
       "      <th>Area_Name</th>\n",
       "      <th>Year</th>\n",
       "      <th>Group_Name</th>\n",
       "      <th>Sub_Group_Name</th>\n",
       "      <th>K_A_Cases_Reported</th>\n",
       "      <th>K_A_Female_10_15_Years</th>\n",
       "      <th>K_A_Female_15_18_Years</th>\n",
       "      <th>K_A_Female_18_30_Years</th>\n",
       "      <th>K_A_Female_30_50_Years</th>\n",
       "      <th>K_A_Female_Above_50_Years</th>\n",
       "      <th>K_A_Female_Total</th>\n",
       "      <th>K_A_Female_Upto_10_Years</th>\n",
       "      <th>K_A_Grand_Total</th>\n",
       "      <th>K_A_Male_10_15_Years</th>\n",
       "      <th>K_A_Male_15_18_Years</th>\n",
       "      <th>K_A_Male_18_30_Years</th>\n",
       "      <th>K_A_Male_30_50_Years</th>\n",
       "      <th>K_A_Male_Above_50_Years</th>\n",
       "      <th>K_A_Male_Total</th>\n",
       "      <th>K_A_Male_Upto_10_Years</th>\n",
       "    </tr>\n",
       "  </thead>\n",
       "  <tbody>\n",
       "    <tr>\n",
       "      <th>1255</th>\n",
       "      <td>Andhra Pradesh</td>\n",
       "      <td>2001</td>\n",
       "      <td>Kidnap - For Prostitution</td>\n",
       "      <td>06. For Prostitution</td>\n",
       "      <td>36.0</td>\n",
       "      <td>1.0</td>\n",
       "      <td>17.0</td>\n",
       "      <td>16.0</td>\n",
       "      <td>2.0</td>\n",
       "      <td>0.0</td>\n",
       "      <td>36.0</td>\n",
       "      <td>0.0</td>\n",
       "      <td>36.0</td>\n",
       "      <td>0.0</td>\n",
       "      <td>0.0</td>\n",
       "      <td>0.0</td>\n",
       "      <td>0.0</td>\n",
       "      <td>0.0</td>\n",
       "      <td>0.0</td>\n",
       "      <td>0.0</td>\n",
       "    </tr>\n",
       "    <tr>\n",
       "      <th>1256</th>\n",
       "      <td>Arunachal Pradesh</td>\n",
       "      <td>2001</td>\n",
       "      <td>Kidnap - For Prostitution</td>\n",
       "      <td>06. For Prostitution</td>\n",
       "      <td>0.0</td>\n",
       "      <td>0.0</td>\n",
       "      <td>0.0</td>\n",
       "      <td>0.0</td>\n",
       "      <td>0.0</td>\n",
       "      <td>0.0</td>\n",
       "      <td>0.0</td>\n",
       "      <td>0.0</td>\n",
       "      <td>0.0</td>\n",
       "      <td>0.0</td>\n",
       "      <td>0.0</td>\n",
       "      <td>0.0</td>\n",
       "      <td>0.0</td>\n",
       "      <td>0.0</td>\n",
       "      <td>0.0</td>\n",
       "      <td>0.0</td>\n",
       "    </tr>\n",
       "  </tbody>\n",
       "</table>\n",
       "</div>"
      ],
      "text/plain": [
       "              Area_Name  Year                 Group_Name  \\\n",
       "1255     Andhra Pradesh  2001  Kidnap - For Prostitution   \n",
       "1256  Arunachal Pradesh  2001  Kidnap - For Prostitution   \n",
       "\n",
       "            Sub_Group_Name  K_A_Cases_Reported  K_A_Female_10_15_Years  \\\n",
       "1255  06. For Prostitution                36.0                     1.0   \n",
       "1256  06. For Prostitution                 0.0                     0.0   \n",
       "\n",
       "      K_A_Female_15_18_Years  K_A_Female_18_30_Years  K_A_Female_30_50_Years  \\\n",
       "1255                    17.0                    16.0                     2.0   \n",
       "1256                     0.0                     0.0                     0.0   \n",
       "\n",
       "      K_A_Female_Above_50_Years  K_A_Female_Total  K_A_Female_Upto_10_Years  \\\n",
       "1255                        0.0              36.0                       0.0   \n",
       "1256                        0.0               0.0                       0.0   \n",
       "\n",
       "      K_A_Grand_Total  K_A_Male_10_15_Years  K_A_Male_15_18_Years  \\\n",
       "1255             36.0                   0.0                   0.0   \n",
       "1256              0.0                   0.0                   0.0   \n",
       "\n",
       "      K_A_Male_18_30_Years  K_A_Male_30_50_Years  K_A_Male_Above_50_Years  \\\n",
       "1255                   0.0                   0.0                      0.0   \n",
       "1256                   0.0                   0.0                      0.0   \n",
       "\n",
       "      K_A_Male_Total  K_A_Male_Upto_10_Years  \n",
       "1255             0.0                     0.0  \n",
       "1256             0.0                     0.0  "
      ]
     },
     "execution_count": 60,
     "metadata": {},
     "output_type": "execute_result"
    }
   ],
   "source": [
    "pros.head(2)"
   ]
  },
  {
   "cell_type": "code",
   "execution_count": 43,
   "metadata": {},
   "outputs": [
    {
     "data": {
      "text/plain": [
       "3414.0"
      ]
     },
     "execution_count": 43,
     "metadata": {},
     "output_type": "execute_result"
    }
   ],
   "source": [
    "#Total number of kidnapping done for prostitution\n",
    "pros['K_A_Grand_Total'].sum()"
   ]
  },
  {
   "cell_type": "code",
   "execution_count": 56,
   "metadata": {},
   "outputs": [
    {
     "data": {
      "text/plain": [
       "Area_Name\n",
       "Maharashtra       1041.0\n",
       "West Bengal        930.0\n",
       "Assam              487.0\n",
       "Andhra Pradesh     404.0\n",
       "Uttar Pradesh       93.0\n",
       "Name: K_A_Grand_Total, dtype: float64"
      ]
     },
     "execution_count": 56,
     "metadata": {},
     "output_type": "execute_result"
    }
   ],
   "source": [
    "pros.groupby(\"Area_Name\")['K_A_Grand_Total'].sum().sort_values(ascending = False).head(5)#no by needed here as column name specified earlier\n",
    "#OR\n",
    "#reason.groupby(\"Sub_Group_Name\").sum().sort_values(by=['K_A_Grand_Total'], ascending=False)"
   ]
  },
  {
   "cell_type": "code",
   "execution_count": 59,
   "metadata": {},
   "outputs": [
    {
     "data": {
      "text/plain": [
       "71.99765670767428"
      ]
     },
     "execution_count": 59,
     "metadata": {},
     "output_type": "execute_result"
    }
   ],
   "source": [
    "(1041 + 930 + 487) /3414 * 100"
   ]
  },
  {
   "cell_type": "markdown",
   "metadata": {},
   "source": [
    "### Conclusion - Maha,W.B and Assam account for 72 % of all kidnapping done due to prostitution"
   ]
  },
  {
   "cell_type": "markdown",
   "metadata": {},
   "source": [
    "###  Kidnapping committed for prostitution based on gender"
   ]
  },
  {
   "cell_type": "code",
   "execution_count": 63,
   "metadata": {},
   "outputs": [
    {
     "name": "stdout",
     "output_type": "stream",
     "text": [
      "Number of People Kidnapped for prostitution = 3414.0\n",
      "Number of Females Kidnapped for prostitution = 3309.0\n",
      "Number of Females Kidnapped for prostitution = 105.0\n"
     ]
    }
   ],
   "source": [
    "print(\"Number of People Kidnapped for prostitution = \" + str(pros['K_A_Grand_Total'].sum()))\n",
    "print(\"Number of Females Kidnapped for prostitution = \" + st r(pros['K_A_Female_Total'].sum()))\n",
    "print(\"Number of Females Kidnapped for prostitution = \" + str(pros['K_A_Male_Total'].sum()))"
   ]
  },
  {
   "cell_type": "markdown",
   "metadata": {},
   "source": [
    "###  Kidnapping committed for prostitution based on Year"
   ]
  },
  {
   "cell_type": "code",
   "execution_count": 67,
   "metadata": {},
   "outputs": [
    {
     "data": {
      "text/plain": [
       "Year\n",
       "2009    601.0\n",
       "2010    533.0\n",
       "2006    501.0\n",
       "2007    417.0\n",
       "2008    339.0\n",
       "Name: K_A_Grand_Total, dtype: float64"
      ]
     },
     "execution_count": 67,
     "metadata": {},
     "output_type": "execute_result"
    }
   ],
   "source": [
    "pros.groupby(\"Year\")['K_A_Grand_Total'].sum().sort_values(ascending = False).head(5)"
   ]
  },
  {
   "cell_type": "markdown",
   "metadata": {},
   "source": [
    "###  Kidnapping committed for prostitution based on Age_Group"
   ]
  },
  {
   "cell_type": "code",
   "execution_count": 68,
   "metadata": {},
   "outputs": [
    {
     "data": {
      "text/plain": [
       "Area_Name                    Andhra PradeshArunachal PradeshAssamBiharChand...\n",
       "Year                                                                    463267\n",
       "Group_Name                   Kidnap - For ProstitutionKidnap - For Prostitu...\n",
       "Sub_Group_Name               06. For Prostitution06. For Prostitution06. Fo...\n",
       "K_A_Cases_Reported                                                        2733\n",
       "K_A_Female_10_15_Years                                                     228\n",
       "K_A_Female_15_18_Years                                                     826\n",
       "K_A_Female_18_30_Years                                                    1891\n",
       "K_A_Female_30_50_Years                                                     300\n",
       "K_A_Female_Above_50_Years                                                   51\n",
       "K_A_Female_Total                                                          3309\n",
       "K_A_Female_Upto_10_Years                                                    13\n",
       "K_A_Grand_Total                                                           3414\n",
       "K_A_Male_10_15_Years                                                         4\n",
       "K_A_Male_15_18_Years                                                         5\n",
       "K_A_Male_18_30_Years                                                        53\n",
       "K_A_Male_30_50_Years                                                        36\n",
       "K_A_Male_Above_50_Years                                                      3\n",
       "K_A_Male_Total                                                             105\n",
       "K_A_Male_Upto_10_Years                                                       4\n",
       "dtype: object"
      ]
     },
     "execution_count": 68,
     "metadata": {},
     "output_type": "execute_result"
    }
   ],
   "source": [
    "pros.sum()"
   ]
  },
  {
   "cell_type": "markdown",
   "metadata": {},
   "source": [
    "### Most people are kidnapped when they are between 18-30 years of age"
   ]
  },
  {
   "cell_type": "markdown",
   "metadata": {},
   "source": [
    "## In which states most people are kidnapped for marriage"
   ]
  },
  {
   "cell_type": "code",
   "execution_count": 70,
   "metadata": {},
   "outputs": [],
   "source": [
    "marr = df[df['Sub_Group_Name'] == '05. For Marriage']"
   ]
  },
  {
   "cell_type": "code",
   "execution_count": 71,
   "metadata": {},
   "outputs": [
    {
     "data": {
      "text/html": [
       "<div>\n",
       "<style scoped>\n",
       "    .dataframe tbody tr th:only-of-type {\n",
       "        vertical-align: middle;\n",
       "    }\n",
       "\n",
       "    .dataframe tbody tr th {\n",
       "        vertical-align: top;\n",
       "    }\n",
       "\n",
       "    .dataframe thead th {\n",
       "        text-align: right;\n",
       "    }\n",
       "</style>\n",
       "<table border=\"1\" class=\"dataframe\">\n",
       "  <thead>\n",
       "    <tr style=\"text-align: right;\">\n",
       "      <th></th>\n",
       "      <th>Area_Name</th>\n",
       "      <th>Year</th>\n",
       "      <th>Group_Name</th>\n",
       "      <th>Sub_Group_Name</th>\n",
       "      <th>K_A_Cases_Reported</th>\n",
       "      <th>K_A_Female_10_15_Years</th>\n",
       "      <th>K_A_Female_15_18_Years</th>\n",
       "      <th>K_A_Female_18_30_Years</th>\n",
       "      <th>K_A_Female_30_50_Years</th>\n",
       "      <th>K_A_Female_Above_50_Years</th>\n",
       "      <th>K_A_Female_Total</th>\n",
       "      <th>K_A_Female_Upto_10_Years</th>\n",
       "      <th>K_A_Grand_Total</th>\n",
       "      <th>K_A_Male_10_15_Years</th>\n",
       "      <th>K_A_Male_15_18_Years</th>\n",
       "      <th>K_A_Male_18_30_Years</th>\n",
       "      <th>K_A_Male_30_50_Years</th>\n",
       "      <th>K_A_Male_Above_50_Years</th>\n",
       "      <th>K_A_Male_Total</th>\n",
       "      <th>K_A_Male_Upto_10_Years</th>\n",
       "    </tr>\n",
       "  </thead>\n",
       "  <tbody>\n",
       "    <tr>\n",
       "      <th>932</th>\n",
       "      <td>Andaman &amp; Nicobar Islands</td>\n",
       "      <td>2001</td>\n",
       "      <td>Kidnap - For Marriage</td>\n",
       "      <td>05. For Marriage</td>\n",
       "      <td>2.0</td>\n",
       "      <td>NaN</td>\n",
       "      <td>2.0</td>\n",
       "      <td>NaN</td>\n",
       "      <td>NaN</td>\n",
       "      <td>NaN</td>\n",
       "      <td>2.0</td>\n",
       "      <td>NaN</td>\n",
       "      <td>2.0</td>\n",
       "      <td>NaN</td>\n",
       "      <td>NaN</td>\n",
       "      <td>NaN</td>\n",
       "      <td>NaN</td>\n",
       "      <td>NaN</td>\n",
       "      <td>NaN</td>\n",
       "      <td>NaN</td>\n",
       "    </tr>\n",
       "    <tr>\n",
       "      <th>933</th>\n",
       "      <td>Andhra Pradesh</td>\n",
       "      <td>2001</td>\n",
       "      <td>Kidnap - For Marriage</td>\n",
       "      <td>05. For Marriage</td>\n",
       "      <td>339.0</td>\n",
       "      <td>73.0</td>\n",
       "      <td>164.0</td>\n",
       "      <td>91.0</td>\n",
       "      <td>4.0</td>\n",
       "      <td>0.0</td>\n",
       "      <td>332.0</td>\n",
       "      <td>0.0</td>\n",
       "      <td>339.0</td>\n",
       "      <td>0.0</td>\n",
       "      <td>1.0</td>\n",
       "      <td>6.0</td>\n",
       "      <td>0.0</td>\n",
       "      <td>0.0</td>\n",
       "      <td>7.0</td>\n",
       "      <td>0.0</td>\n",
       "    </tr>\n",
       "    <tr>\n",
       "      <th>934</th>\n",
       "      <td>Arunachal Pradesh</td>\n",
       "      <td>2001</td>\n",
       "      <td>Kidnap - For Marriage</td>\n",
       "      <td>05. For Marriage</td>\n",
       "      <td>41.0</td>\n",
       "      <td>0.0</td>\n",
       "      <td>0.0</td>\n",
       "      <td>39.0</td>\n",
       "      <td>2.0</td>\n",
       "      <td>0.0</td>\n",
       "      <td>41.0</td>\n",
       "      <td>0.0</td>\n",
       "      <td>41.0</td>\n",
       "      <td>0.0</td>\n",
       "      <td>0.0</td>\n",
       "      <td>0.0</td>\n",
       "      <td>0.0</td>\n",
       "      <td>0.0</td>\n",
       "      <td>0.0</td>\n",
       "      <td>0.0</td>\n",
       "    </tr>\n",
       "    <tr>\n",
       "      <th>935</th>\n",
       "      <td>Assam</td>\n",
       "      <td>2001</td>\n",
       "      <td>Kidnap - For Marriage</td>\n",
       "      <td>05. For Marriage</td>\n",
       "      <td>751.0</td>\n",
       "      <td>34.0</td>\n",
       "      <td>277.0</td>\n",
       "      <td>346.0</td>\n",
       "      <td>0.0</td>\n",
       "      <td>0.0</td>\n",
       "      <td>660.0</td>\n",
       "      <td>3.0</td>\n",
       "      <td>751.0</td>\n",
       "      <td>0.0</td>\n",
       "      <td>31.0</td>\n",
       "      <td>24.0</td>\n",
       "      <td>30.0</td>\n",
       "      <td>6.0</td>\n",
       "      <td>91.0</td>\n",
       "      <td>0.0</td>\n",
       "    </tr>\n",
       "    <tr>\n",
       "      <th>936</th>\n",
       "      <td>Bihar</td>\n",
       "      <td>2001</td>\n",
       "      <td>Kidnap - For Marriage</td>\n",
       "      <td>05. For Marriage</td>\n",
       "      <td>555.0</td>\n",
       "      <td>27.0</td>\n",
       "      <td>131.0</td>\n",
       "      <td>319.0</td>\n",
       "      <td>7.0</td>\n",
       "      <td>0.0</td>\n",
       "      <td>484.0</td>\n",
       "      <td>0.0</td>\n",
       "      <td>555.0</td>\n",
       "      <td>0.0</td>\n",
       "      <td>9.0</td>\n",
       "      <td>54.0</td>\n",
       "      <td>8.0</td>\n",
       "      <td>0.0</td>\n",
       "      <td>71.0</td>\n",
       "      <td>0.0</td>\n",
       "    </tr>\n",
       "  </tbody>\n",
       "</table>\n",
       "</div>"
      ],
      "text/plain": [
       "                     Area_Name  Year             Group_Name    Sub_Group_Name  \\\n",
       "932  Andaman & Nicobar Islands  2001  Kidnap - For Marriage  05. For Marriage   \n",
       "933             Andhra Pradesh  2001  Kidnap - For Marriage  05. For Marriage   \n",
       "934          Arunachal Pradesh  2001  Kidnap - For Marriage  05. For Marriage   \n",
       "935                      Assam  2001  Kidnap - For Marriage  05. For Marriage   \n",
       "936                      Bihar  2001  Kidnap - For Marriage  05. For Marriage   \n",
       "\n",
       "     K_A_Cases_Reported  K_A_Female_10_15_Years  K_A_Female_15_18_Years  \\\n",
       "932                 2.0                     NaN                     2.0   \n",
       "933               339.0                    73.0                   164.0   \n",
       "934                41.0                     0.0                     0.0   \n",
       "935               751.0                    34.0                   277.0   \n",
       "936               555.0                    27.0                   131.0   \n",
       "\n",
       "     K_A_Female_18_30_Years  K_A_Female_30_50_Years  \\\n",
       "932                     NaN                     NaN   \n",
       "933                    91.0                     4.0   \n",
       "934                    39.0                     2.0   \n",
       "935                   346.0                     0.0   \n",
       "936                   319.0                     7.0   \n",
       "\n",
       "     K_A_Female_Above_50_Years  K_A_Female_Total  K_A_Female_Upto_10_Years  \\\n",
       "932                        NaN               2.0                       NaN   \n",
       "933                        0.0             332.0                       0.0   \n",
       "934                        0.0              41.0                       0.0   \n",
       "935                        0.0             660.0                       3.0   \n",
       "936                        0.0             484.0                       0.0   \n",
       "\n",
       "     K_A_Grand_Total  K_A_Male_10_15_Years  K_A_Male_15_18_Years  \\\n",
       "932              2.0                   NaN                   NaN   \n",
       "933            339.0                   0.0                   1.0   \n",
       "934             41.0                   0.0                   0.0   \n",
       "935            751.0                   0.0                  31.0   \n",
       "936            555.0                   0.0                   9.0   \n",
       "\n",
       "     K_A_Male_18_30_Years  K_A_Male_30_50_Years  K_A_Male_Above_50_Years  \\\n",
       "932                   NaN                   NaN                      NaN   \n",
       "933                   6.0                   0.0                      0.0   \n",
       "934                   0.0                   0.0                      0.0   \n",
       "935                  24.0                  30.0                      6.0   \n",
       "936                  54.0                   8.0                      0.0   \n",
       "\n",
       "     K_A_Male_Total  K_A_Male_Upto_10_Years  \n",
       "932             NaN                     NaN  \n",
       "933             7.0                     0.0  \n",
       "934             0.0                     0.0  \n",
       "935            91.0                     0.0  \n",
       "936            71.0                     0.0  "
      ]
     },
     "execution_count": 71,
     "metadata": {},
     "output_type": "execute_result"
    }
   ],
   "source": [
    "marr.head()"
   ]
  },
  {
   "cell_type": "code",
   "execution_count": 73,
   "metadata": {},
   "outputs": [
    {
     "data": {
      "text/plain": [
       "Area_Name\n",
       "Uttar Pradesh    20414.0\n",
       "Rajasthan        12715.0\n",
       "Assam            12564.0\n",
       "Bihar            11212.0\n",
       "Gujarat           7244.0\n",
       "Name: K_A_Grand_Total, dtype: float64"
      ]
     },
     "execution_count": 73,
     "metadata": {},
     "output_type": "execute_result"
    }
   ],
   "source": [
    "marr.groupby(\"Area_Name\")['K_A_Grand_Total'].sum().sort_values(ascending = False).head()"
   ]
  },
  {
   "cell_type": "code",
   "execution_count": 74,
   "metadata": {},
   "outputs": [
    {
     "data": {
      "text/plain": [
       "Area_Name                    Andaman & Nicobar IslandsAndhra PradeshArunach...\n",
       "Year                                                                    647780\n",
       "Group_Name                   Kidnap - For MarriageKidnap - For MarriageKidn...\n",
       "Sub_Group_Name               05. For Marriage05. For Marriage05. For Marria...\n",
       "K_A_Cases_Reported                                                      118995\n",
       "K_A_Female_10_15_Years                                                    5696\n",
       "K_A_Female_15_18_Years                                                   23418\n",
       "K_A_Female_18_30_Years                                                   75877\n",
       "K_A_Female_30_50_Years                                                   11465\n",
       "K_A_Female_Above_50_Years                                                  127\n",
       "K_A_Female_Total                                                        116732\n",
       "K_A_Female_Upto_10_Years                                                   149\n",
       "K_A_Grand_Total                                                         119107\n",
       "K_A_Male_10_15_Years                                                        23\n",
       "K_A_Male_15_18_Years                                                       277\n",
       "K_A_Male_18_30_Years                                                      1623\n",
       "K_A_Male_30_50_Years                                                       420\n",
       "K_A_Male_Above_50_Years                                                     19\n",
       "K_A_Male_Total                                                            2375\n",
       "K_A_Male_Upto_10_Years                                                      13\n",
       "dtype: object"
      ]
     },
     "execution_count": 74,
     "metadata": {},
     "output_type": "execute_result"
    }
   ],
   "source": [
    "marr.sum()"
   ]
  },
  {
   "cell_type": "markdown",
   "metadata": {},
   "source": [
    "## Top 5 states where most kidnappings have taken place"
   ]
  },
  {
   "cell_type": "code",
   "execution_count": 88,
   "metadata": {},
   "outputs": [],
   "source": [
    "#Removing sub_group Total (Sum of 1-13 Above)\n",
    "state = df[df['Sub_Group_Name'] != '14. Total (Sum of 1-13 Above)']"
   ]
  },
  {
   "cell_type": "code",
   "execution_count": 89,
   "metadata": {},
   "outputs": [
    {
     "data": {
      "text/plain": [
       "array(['01. For Adoption', '02. For Begging', '03. for Camel Racing',\n",
       "       '04. For Illicit Intercourse', '05. For Marriage',\n",
       "       '06. For Prostitution', '07. For Ransom', '08. For Revenge',\n",
       "       '09. For Sale', '10. For Selling Bodyparts', '11. For Slavery',\n",
       "       '12. For Unlawful Activity', '13. Other Purposes'], dtype=object)"
      ]
     },
     "execution_count": 89,
     "metadata": {},
     "output_type": "execute_result"
    }
   ],
   "source": [
    "state['Sub_Group_Name'].unique()"
   ]
  },
  {
   "cell_type": "code",
   "execution_count": 96,
   "metadata": {},
   "outputs": [
    {
     "data": {
      "text/plain": [
       "Area_Name\n",
       "Uttar Pradesh                41952.0\n",
       "Bihar                        28180.0\n",
       "Rajasthan                    24313.0\n",
       "Assam                        20363.0\n",
       "Delhi                        18217.0\n",
       "Andhra Pradesh               17287.0\n",
       "West Bengal                  16709.0\n",
       "Maharashtra                  12735.0\n",
       "Gujarat                      12009.0\n",
       "Tamil Nadu                   11514.0\n",
       "Madhya Pradesh                9582.0\n",
       "Jammu & Kashmir               7533.0\n",
       "Karnataka                     7452.0\n",
       "Odisha                        7061.0\n",
       "Haryana                       6426.0\n",
       "Punjab                        6227.0\n",
       "Jharkhand                     5966.0\n",
       "Chhattisgarh                  2423.0\n",
       "Kerala                        2371.0\n",
       "Uttarakhand                   2245.0\n",
       "Manipur                       1618.0\n",
       "Tripura                       1523.0\n",
       "Himachal Pradesh              1437.0\n",
       "Arunachal Pradesh              682.0\n",
       "Meghalaya                      558.0\n",
       "Chandigarh                     510.0\n",
       "Nagaland                       396.0\n",
       "Goa                            200.0\n",
       "Puducherry                     144.0\n",
       "Dadra & Nagar Haveli           123.0\n",
       "Mizoram                         85.0\n",
       "Andaman & Nicobar Islands       76.0\n",
       "Sikkim                          61.0\n",
       "Daman & Diu                     22.0\n",
       "Lakshadweep                      1.0\n",
       "Name: K_A_Grand_Total, dtype: float64"
      ]
     },
     "execution_count": 96,
     "metadata": {},
     "output_type": "execute_result"
    }
   ],
   "source": [
    "state.groupby(\"Area_Name\")['K_A_Grand_Total'].sum().sort_values(ascending = False) #.head()"
   ]
  },
  {
   "cell_type": "markdown",
   "metadata": {},
   "source": [
    "# Total Number of Kidnapping = 268001.0"
   ]
  },
  {
   "cell_type": "code",
   "execution_count": 92,
   "metadata": {},
   "outputs": [
    {
     "data": {
      "text/plain": [
       "49.63600882086261"
      ]
     },
     "execution_count": 92,
     "metadata": {},
     "output_type": "execute_result"
    }
   ],
   "source": [
    "(41952 + 28180 + 24313 + 20363 + 18217) / 268001 * 100"
   ]
  },
  {
   "cell_type": "code",
   "execution_count": 98,
   "metadata": {},
   "outputs": [
    {
     "data": {
      "text/plain": [
       "Area_Name                    Andhra PradeshArunachal PradeshAssamBiharChand...\n",
       "Year                                                                   6479805\n",
       "Group_Name                   Kidnap - For AdoptionKidnap - For AdoptionKidn...\n",
       "Sub_Group_Name               01. For Adoption01. For Adoption01. For Adopti...\n",
       "K_A_Cases_Reported                                                      264596\n",
       "K_A_Female_10_15_Years                                                   11978\n",
       "K_A_Female_15_18_Years                                                   35827\n",
       "K_A_Female_18_30_Years                                                  119662\n",
       "K_A_Female_30_50_Years                                                   21550\n",
       "K_A_Female_Above_50_Years                                                  625\n",
       "K_A_Female_Total                                                        192175\n",
       "K_A_Female_Upto_10_Years                                                  2533\n",
       "K_A_Grand_Total                                                         268001\n",
       "K_A_Male_10_15_Years                                                      4510\n",
       "K_A_Male_15_18_Years                                                      5290\n",
       "K_A_Male_18_30_Years                                                     39378\n",
       "K_A_Male_30_50_Years                                                     20821\n",
       "K_A_Male_Above_50_Years                                                   2043\n",
       "K_A_Male_Total                                                           75826\n",
       "K_A_Male_Upto_10_Years                                                    3784\n",
       "dtype: object"
      ]
     },
     "execution_count": 98,
     "metadata": {},
     "output_type": "execute_result"
    }
   ],
   "source": [
    "state.sum()"
   ]
  },
  {
   "cell_type": "code",
   "execution_count": null,
   "metadata": {},
   "outputs": [],
   "source": []
  },
  {
   "cell_type": "code",
   "execution_count": null,
   "metadata": {},
   "outputs": [],
   "source": []
  }
 ],
 "metadata": {
  "kernelspec": {
   "display_name": "Python 3",
   "language": "python",
   "name": "python3"
  },
  "language_info": {
   "codemirror_mode": {
    "name": "ipython",
    "version": 3
   },
   "file_extension": ".py",
   "mimetype": "text/x-python",
   "name": "python",
   "nbconvert_exporter": "python",
   "pygments_lexer": "ipython3",
   "version": "3.7.1"
  }
 },
 "nbformat": 4,
 "nbformat_minor": 2
}
